{
 "cells": [
  {
   "cell_type": "markdown",
   "metadata": {},
   "source": [
    "#  House stuff"
   ]
  },
  {
   "cell_type": "code",
   "execution_count": 2,
   "metadata": {},
   "outputs": [
    {
     "name": "stdout",
     "output_type": "stream",
     "text": [
      "(2344, 81)\n",
      "(586, 81)\n"
     ]
    }
   ],
   "source": [
    "import pandas as pd\n",
    "import matplotlib.pyplot as plt\n",
    "import pprint\n",
    "from sklearn import linear_model\n",
    "from sklearn.model_selection import train_test_split\n",
    "from sklearn.feature_selection import f_regression\n",
    "from sklearn.feature_selection import SelectPercentile\n",
    "from sklearn.feature_selection import SelectKBest\n",
    "from sklearn.feature_selection import RFECV\n",
    "from sklearn.metrics import make_scorer\n",
    "from sklearn.metrics import r2_score\n",
    "from data_util import *\n",
    "\n",
    "houseA = pd.read_csv('AmesHousingSetA.csv')\n",
    "print(houseA.shape)\n",
    "\n",
    "\n",
    "houseB = pd.read_csv('AmesHousingSetB.csv')\n",
    "print(houseB.shape)"
   ]
  },
  {
   "cell_type": "markdown",
   "metadata": {},
   "source": [
    "## 1. Data Preparation\n",
    "I fill in the NA values of both the house A and house B sets.\n",
    "I follow that up by applying one hot encoding to both sets.\n",
    "After that I attempt to fill in the columns missing from both sets after OHE.\n",
    "This is all to get the data in an acceptable format to train the model with."
   ]
  },
  {
   "cell_type": "code",
   "execution_count": 3,
   "metadata": {},
   "outputs": [
    {
     "name": "stdout",
     "output_type": "stream",
     "text": [
      "(2344, 81)\n",
      "43\n"
     ]
    }
   ],
   "source": [
    "from sklearn import preprocessing\n",
    "from sklearn.impute import SimpleImputer\n",
    "import numpy as np\n",
    "\n",
    "houseA = houseA.apply(lambda x:x.fillna(x.value_counts().index[0]))\n",
    "print(houseA.shape)\n",
    "\n",
    "houseB = houseB.apply(lambda x:x.fillna(x.value_counts().index[0]))\n",
    "print(len(cat_features(houseB)))"
   ]
  },
  {
   "cell_type": "code",
   "execution_count": 4,
   "metadata": {},
   "outputs": [
    {
     "name": "stdout",
     "output_type": "stream",
     "text": [
      "(2344, 300)\n",
      "(586, 271)\n"
     ]
    }
   ],
   "source": [
    "houseA = pd.get_dummies(houseA, columns=cat_features(houseA))\n",
    "print(houseA.shape)\n",
    "\n",
    "houseB = pd.get_dummies(houseB, columns=cat_features(houseB))\n",
    "print(houseB.shape)"
   ]
  },
  {
   "cell_type": "code",
   "execution_count": 5,
   "metadata": {},
   "outputs": [
    {
     "name": "stdout",
     "output_type": "stream",
     "text": [
      "300 - 271 = 35\n"
     ]
    }
   ],
   "source": [
    "featureA = set(list(houseA))\n",
    "featureB = set(list(houseB))\n",
    "missingFeats = list(featureA - featureB)\n",
    "print(len(featureA), '-', len(featureB), '=', len(missingFeats))\n",
    "dictFeats = { i : 0 for i in missingFeats }\n",
    "houseB = houseB.assign(**dictFeats)"
   ]
  },
  {
   "cell_type": "code",
   "execution_count": 6,
   "metadata": {},
   "outputs": [
    {
     "name": "stdout",
     "output_type": "stream",
     "text": [
      "300 - 271 = 6\n"
     ]
    }
   ],
   "source": [
    "missingFeats = list(featureB - featureA)\n",
    "print(len(featureA), '-', len(featureB), '=', len(missingFeats))\n",
    "dictFeats = { i : 0 for i in missingFeats }\n",
    "houseA = houseA.assign(**dictFeats)"
   ]
  },
  {
   "cell_type": "code",
   "execution_count": 7,
   "metadata": {},
   "outputs": [],
   "source": [
    "features = list(houseA)\n",
    "features.remove('SalePrice')\n",
    "features.remove('PID')\n",
    "\n",
    "data_x = houseA[features]\n",
    "data_y = houseA['SalePrice']\n",
    "\n",
    "x_train, x_test, y_train, y_test = train_test_split(data_x, data_y,\n",
    "                                                    test_size=0.2)"
   ]
  },
  {
   "cell_type": "markdown",
   "metadata": {},
   "source": [
    "## 2. Exploratory analysis\n",
    "My exploratory analysis consisted mostly of viewing the p-values of all the columns. It shows that lot.area, low.qual.fin.sf, and garage.yr.blt are the three important columns, p-value wise."
   ]
  },
  {
   "cell_type": "code",
   "execution_count": 8,
   "metadata": {},
   "outputs": [
    {
     "name": "stdout",
     "output_type": "stream",
     "text": [
      "MSE, MAE, R^2, EVS: [703305915.855146, 10591.771428100881, 0.8988739324658478, 0.8988868716901801]\n"
     ]
    }
   ],
   "source": [
    "#Base model\n",
    "base_model = linear_model.LinearRegression()\n",
    "base_model.fit(x_train, y_train)\n",
    "preds = base_model.predict(x_test)\n",
    "print_regression_error_report(y_test, preds)"
   ]
  },
  {
   "cell_type": "code",
   "execution_count": 9,
   "metadata": {},
   "outputs": [
    {
     "name": "stdout",
     "output_type": "stream",
     "text": [
      "[('Lot.Area', 0.0), ('Low.Qual.Fin.SF', 1.0817494038151571e-265), ('Garage.Yr.Blt', 6.165167249807467e-221), ('Garage.Cars', 1.210187411104425e-214), ('Bsmt.Unf.SF', 2.093093115610574e-200), ('Total.Bsmt.SF', 2.809264497814274e-191), ('Overall.Cond', 1.6308749711711436e-149), ('Bsmt.Half.Bath', 7.35285846377562e-146), ('Year.Built', 4.314023943337278e-133), ('Year.Remod.Add', 1.5577532284997153e-110), ('Kitchen.AbvGr', 9.22385697098912e-106), ('TotRms.AbvGrd', 8.237244046540062e-96), ('Fireplaces', 2.3755643441188007e-95), ('Mas.Vnr.Area', 1.6828310466439684e-87), ('Neighborhood_NWAmes', 8.031680968506664e-83), ('Garage.Area', 1.9888883750325708e-51), ('MS.SubClass', 2.0985510014428709e-44), ('Lot.Frontage', 5.556883251907022e-44), ('Lot.Shape_IR2', 1.3270096597965693e-42), ('Wood.Deck.SF', 4.812344031640597e-40), ('Neighborhood_NPkVill', 1.1573921788671377e-39), ('MS.Zoning_RH', 4.0527365359251255e-38), ('Alley_Grvl', 3.1985749560705083e-35), ('Full.Bath', 2.3537556186067975e-34), ('Gr.Liv.Area', 1.7361506957779864e-33), ('X1st.Flr.SF', 1.0483164027648915e-29), ('Neighborhood_SawyerW', 1.4210463309003272e-28), ('MS.Zoning_I (all)', 3.923349539588135e-27), ('Lot.Shape_Reg', 3.5169510017907137e-22), ('Neighborhood_NoRidge', 2.209470435810685e-21), ('Neighborhood_Greens', 5.395541484438086e-15), ('Neighborhood_MeadowV', 1.5257331649649135e-14), ('BsmtFin.SF.2', 1.6725043011820668e-13), ('Neighborhood_Sawyer', 1.049007021390557e-11), ('Neighborhood_CollgCr', 2.5746780757042573e-11), ('Condition.2_Feedr', 3.491879269371382e-11), ('Neighborhood_Blueste', 9.414039341376454e-09), ('Neighborhood_Veenker', 2.435973713121367e-08), ('SalePrice', 2.961324726516376e-08), ('Open.Porch.SF', 4.2832304919235234e-08), ('Half.Bath', 4.7204506583512725e-08), ('Neighborhood_IDOTRR', 4.886522585070181e-08), ('Utilities_NoSewr', 6.010485217035024e-08), ('Neighborhood_OldTown', 7.720220474800483e-08), ('Neighborhood_Timber', 1.6827725116565042e-07), ('Neighborhood_Somerst', 2.536040497691282e-07), ('Bedroom.AbvGr', 2.80832558854821e-07), ('Overall.Qual', 4.7574070837418096e-07), ('X3Ssn.Porch', 7.462483152236986e-07), ('Bldg.Type_2fmCon', 3.57081410308668e-06), ('Land.Contour_HLS', 3.7512568661803973e-06), ('MS.Zoning_A (agr)', 9.67412025444794e-06), ('Condition.2_RRAe', 1.1030317894272893e-05), ('Bldg.Type_1Fam', 1.7691749879679606e-05), ('Neighborhood_BrkSide', 3.03043303518173e-05), ('Neighborhood_StoneBr', 3.68135815829669e-05), ('Alley_Pave', 4.182739533545947e-05), ('Neighborhood_Blmngtn', 4.519757835460913e-05), ('Condition.2_RRNn', 5.124688740022438e-05), ('Screen.Porch', 5.717440282271808e-05), ('PID', 0.00023574636841360692), ('Lot.Shape_IR3', 0.0012471737441199673), ('Lot.Config_FR2', 0.0014293866861127648), ('Lot.Config_FR3', 0.00219354447575089), ('Condition.2_Artery', 0.0029014671635876877), ('Lot.Config_Inside', 0.005172404250483768), ('MS.Zoning_RM', 0.007266085438088331), ('MS.Zoning_RL', 0.0072660854380931054), ('Condition.2_Norm', 0.009368112564234851), ('Neighborhood_Landmrk', 0.012987813652856828), ('Neighborhood_ClearCr', 0.013840037572831698), ('MS.Zoning_FV', 0.04275764859198708), ('X2nd.Flr.SF', 0.071503692032422), ('Neighborhood_Gilbert', 0.0807606977118385), ('Land.Contour_Low', 0.09592094246815237), ('Utilities_AllPub', 0.0971063773746361), ('Land.Contour_Bnk', 0.10339259468815229), ('Bsmt.Full.Bath', 0.1259773101037459), ('MS.Zoning_C (all)', 0.1261979668284547), ('Land.Slope_Gtl', 0.1897206918645612), ('Neighborhood_BrDale', 0.20291414164393987), ('Yr.Sold', 0.21779248346775362), ('Mo.Sold', 0.2205266669824074), ('Land.Slope_Mod', 0.2500666018708746), ('Neighborhood_Crawfor', 0.25853482521565463), ('Land.Slope_Sev', 0.27545159732781943), ('Misc.Val', 0.4053117937710212), ('BsmtFin.SF.1', 0.4706728899771726), ('Enclosed.Porch', 0.4780245793033484), ('Pool.Area', 0.4885678001618462), ('Lot.Config_CulDSac', 0.5175783105482779), ('Lot.Config_Corner', 0.5796141347315229), ('Land.Contour_Lvl', 0.5916476691395339), ('Utilities_NoSeWa', 0.6977910917859026), ('Lot.Shape_IR1', 0.846346889185814), ('Street_Grvl', 0.8584945610547127), ('Street_Pave', 0.8584945610547127), ('Neighborhood_Edwards', 0.948678272264632), ('Neighborhood_GrnHill', nan), ('Exterior.1st_Stone', 3.6382993148403276e-50), ('Roof.Style_Gable', 1.1790665740016268e-31), ('House.Style_SLvl', 7.721391274382933e-26), ('House.Style_2.5Fin', 3.2838608401879204e-16), ('Bldg.Type_Twnhs', 7.580348664836029e-14), ('Exterior.1st_Stucco', 1.090490731743993e-13), ('Exterior.1st_BrkFace', 2.9453569530598924e-11), ('Exterior.1st_HdBoard', 4.6065078519385985e-10), ('Roof.Matl_Tar&Grv', 7.006825382876484e-08), ('Exterior.1st_CBlock', 1.833578283812301e-07), ('Roof.Matl_WdShake', 2.817527461963111e-07), ('Condition.1_Artery', 7.2869275504262116e-06), ('Condition.1_Feedr', 7.369982786345717e-06), ('Condition.1_Norm', 0.0004191356266412131), ('House.Style_2.5Unf', 0.000522364935915203), ('Bldg.Type_TwnhsE', 0.002540726645111967), ('Roof.Style_Shed', 0.0049707582938001435), ('Neighborhood_NridgHt', 0.00526627176882887), ('Exterior.1st_PreCast', 0.00889734058420658), ('Roof.Style_Flat', 0.009617027035862546), ('Exterior.1st_VinylSd', 0.02260685573454322), ('Condition.1_PosA', 0.02784490544396532), ('House.Style_2Story', 0.03458343990035371), ('Bldg.Type_Duplex', 0.036920671911488075), ('Neighborhood_Mitchel', 0.06624306178267238), ('Roof.Matl_Roll', 0.08368134490234556), ('Roof.Matl_WdShngl', 0.11565400996877098), ('Exterior.1st_BrkComm', 0.12429408654982717), ('Exterior.1st_ImStucc', 0.13955044696436814), ('Condition.2_PosN', 0.14009720187624472), ('Exterior.1st_Plywood', 0.17129252536801887), ('Exterior.1st_AsbShng', 0.18816106334463364), ('Condition.1_RRNn', 0.18884781830779182), ('Exterior.1st_AsphShn', 0.2810310897528103), ('House.Style_1.5Unf', 0.3014257532603845), ('Exterior.1st_MetalSd', 0.3243146055862529), ('Condition.1_RRNe', 0.3922340391596366), ('Neighborhood_NAmes', 0.40091604345740783), ('Condition.1_RRAn', 0.4373881929747401), ('Roof.Matl_ClyTile', 0.44981872866743455), ('Condition.1_RRAe', 0.45929428904516634), ('House.Style_1.5Fin', 0.55554220109065), ('Roof.Style_Gambrel', 0.6253905992533578), ('Roof.Style_Hip', 0.6410147598598063), ('Neighborhood_SWISU', 0.6798067223580037), ('Condition.1_PosN', 0.7092581072904206), ('House.Style_1Story', 0.7672476838446458), ('Roof.Style_Mansard', 0.797261326998189), ('Condition.2_PosA', 0.9077893628728189), ('Roof.Matl_Membran', 0.9102560893517663), ('House.Style_SFoyer', 0.9939892383701814), ('Roof.Matl_CompShg', nan), ('Exterior.1st_CemntBd', nan), ('Exter.Qual_Fa', 2.3592435020055845e-182), ('Foundation_Stone', 1.1446491429216008e-176), ('Electrical_Mix', 2.4719454296130947e-144), ('Kitchen.Qual_Fa', 2.346708377021195e-134), ('Foundation_BrkTil', 5.379900754808578e-128), ('Garage.Finish_Fin', 1.4606293875281604e-124), ('Bsmt.Qual_Gd', 1.7524792351275594e-118), ('Mas.Vnr.Type_None', 8.411250847240925e-104), ('BsmtFin.Type.1_ALQ', 1.2931333486593838e-97), ('Exter.Qual_Ex', 1.642035668990775e-92), ('Heating_OthW', 1.1370937545545873e-90), ('Garage.Type_CarPort', 9.695482220154989e-82), ('Mas.Vnr.Type_BrkCmn', 2.498175896191707e-67), ('Garage.Type_BuiltIn', 3.443251430419003e-59), ('Kitchen.Qual_Ex', 1.2907168456885696e-40), ('Fireplace.Qu_TA', 1.497407439927893e-31), ('Functional_Sev', 1.4797693628167036e-26), ('Electrical_FuseP', 2.470848601062975e-25), ('Garage.Type_Attchd', 1.9132043073798573e-18), ('Garage.Finish_Unf', 1.7370068565061228e-12), ('Garage.Type_Detchd', 2.303187746647255e-12), ('Fireplace.Qu_Ex', 1.4377431566471955e-11), ('Garage.Qual_TA', 1.5625095986076057e-10), ('Garage.Qual_Gd', 8.852183495767191e-10), ('Fireplace.Qu_Gd', 6.577246246693795e-09), ('Electrical_SBrkr', 1.4733441102203963e-08), ('Functional_Sal', 6.264005659367833e-07), ('Central.Air_Y', 1.6991266146167155e-06), ('Kitchen.Qual_TA', 0.0022479198382694267), ('Garage.Type_Basment', 0.0031847063241562164), ('Fireplace.Qu_Fa', 0.0034112684174406375), ('Functional_Maj2', 0.003653907649373548), ('Garage.Qual_Ex', 0.007111107816684371), ('Garage.Qual_Fa', 0.009759058756566002), ('Functional_Maj1', 0.03152706237081455), ('Garage.Type_2Types', 0.056767090718187994), ('Electrical_FuseA', 0.05798560773788099), ('Functional_Min1', 0.12267466458618155), ('Functional_Mod', 0.13543209494510475), ('Functional_Typ', 0.13840605083488478), ('Electrical_FuseF', 0.15774606915468578), ('Fireplace.Qu_Po', 0.16813941941254698), ('Kitchen.Qual_Gd', 0.2613940675463107), ('Functional_Min2', nan), ('Sale.Type_ConLI', 1.3028433315498898e-62), ('Sale.Condition_Family', 4.1827999178504607e-60), ('Exter.Cond_TA', 1.1600016771912706e-54), ('Bsmt.Cond_TA', 3.670888109050528e-53), ('Bsmt.Exposure_Gd', 2.7904016989308673e-51), ('Heating.QC_Gd', 1.9980246532102923e-50), ('Exterior.2nd_Stone', 1.5514632548124822e-49), ('Mas.Vnr.Type_BrkFace', 1.6490692736730145e-43), ('Paved.Drive_N', 2.3850562496128701e-32), ('Garage.Cond_Po', 4.0027740457926344e-29), ('Heating.QC_TA', 1.9766864189832382e-28), ('Heating.QC_Po', 1.9766864189852045e-28), ('Exterior.2nd_Wd Shng', 5.123148508683441e-24), ('Exter.Cond_Po', 1.0147612190596401e-22), ('Sale.Type_New', 1.877392996411469e-22), ('Bsmt.Qual_Ex', 1.3882879037003902e-21), ('Central.Air_N', 2.1644543292643427e-18), ('Exterior.2nd_Stucco', 1.4015646305936398e-13), ('BsmtFin.Type.1_LwQ', 5.351454464765211e-13), ('BsmtFin.Type.1_GLQ', 1.7741720446562623e-11), ('Sale.Condition_Alloca', 2.22230953883188e-11), ('Garage.Cond_Gd', 3.2895605833076776e-11), ('Foundation_Wood', 4.5034162276667306e-10), ('Bsmt.Cond_Po', 4.818793215684277e-10), ('Exterior.2nd_BrkFace', 7.08930981340903e-10), ('Heating.QC_Ex', 1.0900952203583835e-08), ('Bsmt.Qual_TA', 1.3395088155209975e-08), ('Exterior.2nd_HdBoard', 2.053458009761882e-08), ('Exter.Qual_TA', 3.4692327439900975e-08), ('Sale.Type_Oth', 5.325091679895824e-08), ('Exterior.1st_Wd Sdng', 1.4826462709700069e-07), ('Exter.Cond_Gd', 7.869457376601018e-07), ('Bsmt.Exposure_No', 9.204601204197425e-07), ('Heating_Wall', 9.263311174137938e-07), ('Exterior.2nd_CBlock', 3.1000626338622817e-06), ('Exterior.2nd_CmentBd', 3.4290482640646962e-06), ('Fence_GdPrv', 8.084754950357386e-06), ('Foundation_CBlock', 9.098490032330741e-06), ('Pool.QC_TA', 1.0038522173012855e-05), ('Misc.Feature_Othr', 2.0549364910282925e-05), ('Mas.Vnr.Type_Stone', 4.817604010590183e-05), ('Bsmt.Exposure_Mn', 9.894669431860738e-05), ('Bsmt.Cond_Ex', 0.00019930005176436115), ('Garage.Cond_TA', 0.00021304569423286228), ('BsmtFin.Type.1_BLQ', 0.0005368076584651626), ('BsmtFin.Type.2_Unf', 0.0006552477598217579), ('Exter.Cond_Ex', 0.0007642838032160938), ('Garage.Cond_Fa', 0.006351710030883218), ('Exterior.2nd_MetalSd', 0.009060964097291032), ('Sale.Type_ConLD', 0.016091772269481892), ('Exter.Qual_Gd', 0.0164960946836336), ('BsmtFin.Type.2_ALQ', 0.018215177334840453), ('Heating_GasA', 0.018440384138533186), ('Exterior.2nd_PreCast', 0.018570282625535447), ('Sale.Type_CWD', 0.02144743156682448), ('Heating_Grav', 0.02751419569477153), ('BsmtFin.Type.2_GLQ', 0.028621865732159434), ('Exterior.2nd_AsbShng', 0.029948594638959866), ('Exterior.2nd_VinylSd', 0.032929493684750205), ('BsmtFin.Type.2_LwQ', 0.03463581805724622), ('Exterior.2nd_Wd Sdng', 0.046406435370905635), ('Sale.Type_WD ', 0.05733919805914792), ('Sale.Type_ConLw', 0.06765908570985162), ('Bsmt.Cond_Fa', 0.07193866235987043), ('BsmtFin.Type.2_BLQ', 0.07903129469511284), ('Exterior.2nd_ImStucc', 0.08557931166223953), ('Bsmt.Qual_Fa', 0.09237138140538187), ('Fence_GdWo', 0.09578456818977969), ('Heating_Floor', 0.09707679869208981), ('Bsmt.Cond_Gd', 0.12058682327590758), ('BsmtFin.Type.1_Unf', 0.1273137696938276), ('Exterior.2nd_Brk Cmn', 0.15513873381009685), ('Sale.Condition_AdjLand', 0.16261482004524486), ('Pool.QC_Gd', 0.17869248704680193), ('BsmtFin.Type.2_Rec', 0.17884844336000474), ('Exterior.1st_WdShing', 0.1849886460317072), ('Exter.Cond_Fa', 0.19546559224217222), ('Sale.Type_COD', 0.22342392492875907), ('Heating.QC_Fa', 0.244404403752745), ('Bsmt.Exposure_Av', 0.24532602803537046), ('Foundation_PConc', 0.250879710339336), ('Misc.Feature_Elev', 0.29016609145259065), ('Garage.Finish_RFn', 0.3191434634624736), ('Garage.Qual_Po', 0.3191434634624736), ('Sale.Condition_Abnorml', 0.3196469971577458), ('Exterior.2nd_Other', 0.3243146055862529), ('Misc.Feature_Gar2', 0.4592373311703827), ('Heating_GasW', 0.5248709077985643), ('Exterior.2nd_Plywood', 0.5323380452055662), ('Foundation_Slab', 0.5955033064767175), ('Exterior.2nd_AsphShn', 0.7418079727086215), ('Bsmt.Qual_Po', 0.7577921017516066), ('Sale.Type_Con', 0.7687481274077921), ('Pool.QC_Ex', 0.797261326998189), ('Fence_MnWw', 0.8377563727610905), ('BsmtFin.Type.1_Rec', 0.8468889703940683), ('Pool.QC_Fa', 0.8594849148357032), ('Fence_MnPrv', 0.9685555471258325), ('Garage.Cond_Ex', 0.9686987388608137), ('Misc.Feature_Shed', 0.9743617419476327), ('Paved.Drive_Y', 0.9967990789131309), ('Paved.Drive_P', 0.9989663843858557), ('Sale.Condition_Normal', nan), ('Sale.Condition_Partial', nan), ('Mas.Vnr.Type_CBlock', nan), ('Roof.Matl_Metal', nan), ('Misc.Feature_TenC', nan), ('Kitchen.Qual_Po', nan)]\n"
     ]
    },
    {
     "name": "stderr",
     "output_type": "stream",
     "text": [
      "D:\\Anaconda3\\lib\\site-packages\\sklearn\\feature_selection\\univariate_selection.py:299: RuntimeWarning: invalid value encountered in true_divide\n",
      "  corr /= X_norms\n",
      "D:\\Anaconda3\\lib\\site-packages\\scipy\\stats\\_distn_infrastructure.py:879: RuntimeWarning: invalid value encountered in greater\n",
      "  return (self.a < x) & (x < self.b)\n",
      "D:\\Anaconda3\\lib\\site-packages\\scipy\\stats\\_distn_infrastructure.py:879: RuntimeWarning: invalid value encountered in less\n",
      "  return (self.a < x) & (x < self.b)\n",
      "D:\\Anaconda3\\lib\\site-packages\\scipy\\stats\\_distn_infrastructure.py:1821: RuntimeWarning: invalid value encountered in less_equal\n",
      "  cond2 = cond0 & (x <= self.a)\n"
     ]
    }
   ],
   "source": [
    "selector_f = SelectPercentile(f_regression, percentile=25)\n",
    "selector_f.fit(x_train, y_train)\n",
    "\n",
    "dicto = {}\n",
    "# filling dictionary\n",
    "for name, score, pv in zip(list(houseA), selector_f.scores_,\n",
    "                          selector_f.pvalues_):\n",
    "    dicto[name] = pv\n",
    "    \n",
    "dicto = sorted(dicto.items(), key=lambda x: x[1])\n",
    "print(dicto)"
   ]
  },
  {
   "cell_type": "markdown",
   "metadata": {},
   "source": [
    "## 3. Model Building\n",
    "Of the models, I think either the percentile based feature selection or the base model are the best of the two models, although I think that percentile based would likely work better with a new data set, as I have the feeling that the base model is overtrained."
   ]
  },
  {
   "cell_type": "code",
   "execution_count": 10,
   "metadata": {},
   "outputs": [
    {
     "name": "stdout",
     "output_type": "stream",
     "text": [
      "MSE, MAE, R^2, EVS: [801790457.2901453, 13817.393195902929, 0.868436472772449, 0.8687449702269437]\n"
     ]
    }
   ],
   "source": [
    "# rank the features based on scores, best 25% features\n",
    "xt_train, xt_test = selector_f.transform(x_train), selector_f.transform(x_test)\n",
    "\n",
    "\n",
    "# create a model that uses these 25% best features only\n",
    "model = linear_model.LinearRegression()\n",
    "model.fit(xt_train, y_train)\n",
    "\n",
    "# make predictions and look at results\n",
    "preds = model.predict(xt_test)\n",
    "print_regression_error_report(preds, y_test)\n",
    "\n",
    "#R^2 went up and EVS went down. A bit better results by R^2"
   ]
  },
  {
   "cell_type": "code",
   "execution_count": 11,
   "metadata": {},
   "outputs": [
    {
     "name": "stdout",
     "output_type": "stream",
     "text": [
      "MSE, MAE, R^2, EVS: [1457254426.6767094, 22549.87230170949, 0.7028862701294384, 0.7029962802989402]\n"
     ]
    },
    {
     "name": "stderr",
     "output_type": "stream",
     "text": [
      "D:\\Anaconda3\\lib\\site-packages\\sklearn\\feature_selection\\univariate_selection.py:299: RuntimeWarning: invalid value encountered in true_divide\n",
      "  corr /= X_norms\n",
      "D:\\Anaconda3\\lib\\site-packages\\scipy\\stats\\_distn_infrastructure.py:879: RuntimeWarning: invalid value encountered in greater\n",
      "  return (self.a < x) & (x < self.b)\n",
      "D:\\Anaconda3\\lib\\site-packages\\scipy\\stats\\_distn_infrastructure.py:879: RuntimeWarning: invalid value encountered in less\n",
      "  return (self.a < x) & (x < self.b)\n",
      "D:\\Anaconda3\\lib\\site-packages\\scipy\\stats\\_distn_infrastructure.py:1821: RuntimeWarning: invalid value encountered in less_equal\n",
      "  cond2 = cond0 & (x <= self.a)\n"
     ]
    }
   ],
   "source": [
    "selector_f = SelectKBest(f_regression, k=3) # select top 3 \n",
    "selector_f.fit(x_train, y_train)\n",
    "\n",
    "# rank the features based on scores, best 3 features\n",
    "xt_train, xt_test= selector_f.transform(x_train), selector_f.transform(x_test)\n",
    "\n",
    "# create a model that uses these 3 best features only\n",
    "model = linear_model.LinearRegression()\n",
    "model.fit(xt_train, y_train)\n",
    "\n",
    "# make predictions and look at results\n",
    "preds = model.predict(xt_test)\n",
    "print_regression_error_report(preds, y_test)"
   ]
  },
  {
   "cell_type": "markdown",
   "metadata": {},
   "source": [
    "## 4. Predicting and Validating\n",
    "I was unable to predict and validate on dataset B. I don't understand to use the transform function on houseB. It gives me strange errors, and it's probably something super simple that I'm just overlooking, but I cannot for the life of me figure it out. Sorry."
   ]
  },
  {
   "cell_type": "code",
   "execution_count": null,
   "metadata": {},
   "outputs": [],
   "source": [
    "preds2 = model.predict(houseB)"
   ]
  },
  {
   "cell_type": "code",
   "execution_count": null,
   "metadata": {},
   "outputs": [],
   "source": []
  }
 ],
 "metadata": {
  "kernelspec": {
   "display_name": "Python 3",
   "language": "python",
   "name": "python3"
  },
  "language_info": {
   "codemirror_mode": {
    "name": "ipython",
    "version": 3
   },
   "file_extension": ".py",
   "mimetype": "text/x-python",
   "name": "python",
   "nbconvert_exporter": "python",
   "pygments_lexer": "ipython3",
   "version": "3.7.1"
  }
 },
 "nbformat": 4,
 "nbformat_minor": 2
}
